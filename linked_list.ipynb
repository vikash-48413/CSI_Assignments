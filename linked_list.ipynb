{
 "cells": [
  {
   "cell_type": "markdown",
   "id": "5efd5591",
   "metadata": {},
   "source": [
    "## Linked List Implementation "
   ]
  },
  {
   "cell_type": "markdown",
   "id": "c240c0ad",
   "metadata": {},
   "source": [
    "Create a Python program that implements a singly linked list using Object-Oriented Programming (OOP) principles. Your implementation should include the following: A Node class to represent each node in the list. A LinkedList class to manage the nodes, with methods to: Add a node to the end of the list Print the list Delete the nth node (where n is a 1-based index) Include exception handling to manage edge cases such as: Deleting a node from an empty list Deleting a node with an index out of range Test your implementation with at least one sample list."
   ]
  },
  {
   "cell_type": "code",
   "execution_count": 19,
   "id": "263e917f",
   "metadata": {},
   "outputs": [],
   "source": [
    "class Node:\n",
    "    def __init__(self, value):\n",
    "        self.data = value\n",
    "        self.next = None\n",
    "\n",
    "\n",
    "class LinkedList:\n",
    "    def __init__(self):\n",
    "        self.head = None\n",
    "\n",
    "    def is_empty(self):\n",
    "        return self.head is None\n",
    "\n",
    "    def add_node(self, value):\n",
    "        node = Node(value)\n",
    "        if self.head is None:\n",
    "            self.head = node\n",
    "            print(f\"Head node added: {value}\")\n",
    "        else:\n",
    "            self._add_to_end(node)\n",
    "\n",
    "    def _add_to_end(self, node):\n",
    "        temp = self.head\n",
    "        while temp.next is not None:\n",
    "            temp = temp.next\n",
    "        temp.next = node\n",
    "        print(f\"Node added: {node.data}\")\n",
    "\n",
    "    def print_list(self):\n",
    "        if self.is_empty():\n",
    "            print(\"List is empty.\")\n",
    "            return\n",
    "        current = self.head\n",
    "        result = \"\"\n",
    "        while current is not None:\n",
    "            result += str(current.data) + \" -> \"\n",
    "            current = current.next\n",
    "        result += \"None\"\n",
    "        print(result)\n",
    "\n",
    "    def delete_nth_node(self, index):\n",
    "        if self.is_empty():\n",
    "            print(\"Can't delete from empty list.\")\n",
    "            return\n",
    "\n",
    "        if index <= 0:\n",
    "            print(\"Index should be >= 1\")\n",
    "            return\n",
    "\n",
    "        if index == 1:\n",
    "            print(f\"Deleted head node: {self.head.data}\")\n",
    "            self.head = self.head.next\n",
    "            return\n",
    "\n",
    "        self._delete_by_index(index)\n",
    "\n",
    "    def _delete_by_index(self, index):\n",
    "        prev = self.head\n",
    "        count = 1\n",
    "        while count < index - 1 and prev.next is not None:\n",
    "            prev = prev.next\n",
    "            count += 1\n",
    "\n",
    "        if prev.next is None:\n",
    "            print(\"Index out of bounds.\")\n",
    "            return\n",
    "\n",
    "        to_delete = prev.next\n",
    "        prev.next = to_delete.next\n",
    "        print(f\"Deleted node at position {index}: {to_delete.data}\")\n"
   ]
  },
  {
   "cell_type": "code",
   "execution_count": 20,
   "id": "75071db2",
   "metadata": {},
   "outputs": [
    {
     "name": "stdout",
     "output_type": "stream",
     "text": [
      "Head node added: 10\n",
      "Node added: 20\n",
      "Node added: 30\n",
      "Node added: 40\n",
      "10 -> 20 -> 30 -> 40 -> None\n",
      "Deleted node at position 3: 30\n",
      "10 -> 20 -> 40 -> None\n",
      "Index out of bounds.\n",
      "Can't delete from empty list.\n"
     ]
    }
   ],
   "source": [
    "my_list = LinkedList()\n",
    "\n",
    "my_list.add_node(10)\n",
    "my_list.add_node(20)\n",
    "my_list.add_node(30)\n",
    "my_list.add_node(40)\n",
    "\n",
    "my_list.print_list()\n",
    "\n",
    "my_list.delete_nth_node(3)\n",
    "my_list.print_list()\n",
    "\n",
    "my_list.delete_nth_node(10)\n",
    "\n",
    "empty_list = LinkedList()\n",
    "empty_list.delete_nth_node(1)\n"
   ]
  }
 ],
 "metadata": {
  "kernelspec": {
   "display_name": "Python 3",
   "language": "python",
   "name": "python3"
  },
  "language_info": {
   "codemirror_mode": {
    "name": "ipython",
    "version": 3
   },
   "file_extension": ".py",
   "mimetype": "text/x-python",
   "name": "python",
   "nbconvert_exporter": "python",
   "pygments_lexer": "ipython3",
   "version": "3.12.2"
  }
 },
 "nbformat": 4,
 "nbformat_minor": 5
}
